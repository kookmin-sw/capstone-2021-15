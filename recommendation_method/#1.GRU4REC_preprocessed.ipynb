{
 "cells": [
  {
   "cell_type": "code",
   "execution_count": 1,
   "metadata": {},
   "outputs": [],
   "source": [
    "import time\n",
    "import random\n",
    "import ciso8601\n",
    "import numpy as np\n",
    "import pandas as pd\n",
    "import datetime as dt\n",
    "\n",
    "from multiprocessing import Pool"
   ]
  },
  {
   "cell_type": "code",
   "execution_count": 2,
   "metadata": {},
   "outputs": [
    {
     "data": {
      "text/plain": [
       "(33003944, 3)"
      ]
     },
     "execution_count": 2,
     "metadata": {},
     "output_type": "execute_result"
    }
   ],
   "source": [
    "## load data\n",
    "raw_data = pd.read_csv('./yoochoose-clicks.dat', sep=',', \\\n",
    "                   header=None, usecols=[0,1,2], dtype={0:np.int32, 1:str, 2:np.int64})\n",
    "raw_data.columns = ['SessionId', 'TimeStr', 'ItemId']\n",
    "raw_data.shape"
   ]
  },
  {
   "cell_type": "code",
   "execution_count": 3,
   "metadata": {},
   "outputs": [],
   "source": [
    "random.seed(1050)\n",
    "sample_rate = 0.1\n"
   ]
  },
  {
   "cell_type": "code",
   "execution_count": 4,
   "metadata": {},
   "outputs": [
    {
     "data": {
      "text/plain": [
       "(3301436, 3)"
      ]
     },
     "execution_count": 4,
     "metadata": {},
     "output_type": "execute_result"
    }
   ],
   "source": [
    "u_sessid = raw_data.SessionId.unique()\n",
    "s_sessid = random.sample(u_sessid.tolist(), int(len(u_sessid)*sample_rate))\n",
    "raw_data = raw_data[np.in1d(raw_data.SessionId, s_sessid)]\n",
    "raw_data.shape"
   ]
  },
  {
   "cell_type": "code",
   "execution_count": 5,
   "metadata": {},
   "outputs": [
    {
     "data": {
      "text/html": [
       "<div>\n",
       "<style scoped>\n",
       "    .dataframe tbody tr th:only-of-type {\n",
       "        vertical-align: middle;\n",
       "    }\n",
       "\n",
       "    .dataframe tbody tr th {\n",
       "        vertical-align: top;\n",
       "    }\n",
       "\n",
       "    .dataframe thead th {\n",
       "        text-align: right;\n",
       "    }\n",
       "</style>\n",
       "<table border=\"1\" class=\"dataframe\">\n",
       "  <thead>\n",
       "    <tr style=\"text-align: right;\">\n",
       "      <th></th>\n",
       "      <th>SessionId</th>\n",
       "      <th>TimeStr</th>\n",
       "      <th>ItemId</th>\n",
       "    </tr>\n",
       "  </thead>\n",
       "  <tbody>\n",
       "    <tr>\n",
       "      <th>15</th>\n",
       "      <td>6</td>\n",
       "      <td>2014-04-06T16:58:20.848Z</td>\n",
       "      <td>214701242</td>\n",
       "    </tr>\n",
       "    <tr>\n",
       "      <th>16</th>\n",
       "      <td>6</td>\n",
       "      <td>2014-04-06T17:02:26.976Z</td>\n",
       "      <td>214826623</td>\n",
       "    </tr>\n",
       "    <tr>\n",
       "      <th>55</th>\n",
       "      <td>21</td>\n",
       "      <td>2014-04-07T09:01:28.552Z</td>\n",
       "      <td>214838503</td>\n",
       "    </tr>\n",
       "    <tr>\n",
       "      <th>56</th>\n",
       "      <td>21</td>\n",
       "      <td>2014-04-07T09:03:39.903Z</td>\n",
       "      <td>214838503</td>\n",
       "    </tr>\n",
       "    <tr>\n",
       "      <th>57</th>\n",
       "      <td>21</td>\n",
       "      <td>2014-04-07T09:04:00.598Z</td>\n",
       "      <td>214838503</td>\n",
       "    </tr>\n",
       "    <tr>\n",
       "      <th>...</th>\n",
       "      <td>...</td>\n",
       "      <td>...</td>\n",
       "      <td>...</td>\n",
       "    </tr>\n",
       "    <tr>\n",
       "      <th>33003922</th>\n",
       "      <td>11299818</td>\n",
       "      <td>2014-09-24T19:55:12.619Z</td>\n",
       "      <td>214855209</td>\n",
       "    </tr>\n",
       "    <tr>\n",
       "      <th>33003923</th>\n",
       "      <td>11299819</td>\n",
       "      <td>2014-09-25T08:29:28.743Z</td>\n",
       "      <td>214854855</td>\n",
       "    </tr>\n",
       "    <tr>\n",
       "      <th>33003924</th>\n",
       "      <td>11299819</td>\n",
       "      <td>2014-09-25T08:30:27.345Z</td>\n",
       "      <td>214854815</td>\n",
       "    </tr>\n",
       "    <tr>\n",
       "      <th>33003925</th>\n",
       "      <td>11299819</td>\n",
       "      <td>2014-09-25T08:31:39.129Z</td>\n",
       "      <td>214854815</td>\n",
       "    </tr>\n",
       "    <tr>\n",
       "      <th>33003935</th>\n",
       "      <td>11299814</td>\n",
       "      <td>2014-09-29T16:54:36.153Z</td>\n",
       "      <td>214828970</td>\n",
       "    </tr>\n",
       "  </tbody>\n",
       "</table>\n",
       "<p>3301436 rows × 3 columns</p>\n",
       "</div>"
      ],
      "text/plain": [
       "          SessionId                   TimeStr     ItemId\n",
       "15                6  2014-04-06T16:58:20.848Z  214701242\n",
       "16                6  2014-04-06T17:02:26.976Z  214826623\n",
       "55               21  2014-04-07T09:01:28.552Z  214838503\n",
       "56               21  2014-04-07T09:03:39.903Z  214838503\n",
       "57               21  2014-04-07T09:04:00.598Z  214838503\n",
       "...             ...                       ...        ...\n",
       "33003922   11299818  2014-09-24T19:55:12.619Z  214855209\n",
       "33003923   11299819  2014-09-25T08:29:28.743Z  214854855\n",
       "33003924   11299819  2014-09-25T08:30:27.345Z  214854815\n",
       "33003925   11299819  2014-09-25T08:31:39.129Z  214854815\n",
       "33003935   11299814  2014-09-29T16:54:36.153Z  214828970\n",
       "\n",
       "[3301436 rows x 3 columns]"
      ]
     },
     "execution_count": 5,
     "metadata": {},
     "output_type": "execute_result"
    }
   ],
   "source": [
    "raw_data"
   ]
  },
  {
   "cell_type": "code",
   "execution_count": 6,
   "metadata": {},
   "outputs": [],
   "source": [
    "num_cores = 8\n",
    "\n",
    "def timestr_to_timestamp(df):\n",
    "    df['timestamp'] = df.TimeStr.apply(lambda x: ciso8601.parse_datetime(x).timestamp())\n",
    "    return df\n",
    "\n",
    "def parallelize_dataframe(df, func):\n",
    "    df_split = np.array_split(df, num_cores)\n",
    "    pool = Pool(num_cores)\n",
    "    df = pd.concat(pool.map(func, df_split))\n",
    "    pool.close()\n",
    "    pool.join()\n",
    "    return df"
   ]
  },
  {
   "cell_type": "code",
   "execution_count": 7,
   "metadata": {},
   "outputs": [],
   "source": [
    "raw_data['timestamp'] = raw_data.TimeStr.apply(lambda x: ciso8601.parse_datetime(x).timestamp())\n",
    "data = raw_data\n",
    "del(data['TimeStr'])"
   ]
  },
  {
   "cell_type": "code",
   "execution_count": 8,
   "metadata": {},
   "outputs": [
    {
     "data": {
      "text/html": [
       "<div>\n",
       "<style scoped>\n",
       "    .dataframe tbody tr th:only-of-type {\n",
       "        vertical-align: middle;\n",
       "    }\n",
       "\n",
       "    .dataframe tbody tr th {\n",
       "        vertical-align: top;\n",
       "    }\n",
       "\n",
       "    .dataframe thead th {\n",
       "        text-align: right;\n",
       "    }\n",
       "</style>\n",
       "<table border=\"1\" class=\"dataframe\">\n",
       "  <thead>\n",
       "    <tr style=\"text-align: right;\">\n",
       "      <th></th>\n",
       "      <th>SessionId</th>\n",
       "      <th>ItemId</th>\n",
       "      <th>timestamp</th>\n",
       "    </tr>\n",
       "  </thead>\n",
       "  <tbody>\n",
       "    <tr>\n",
       "      <th>15</th>\n",
       "      <td>6</td>\n",
       "      <td>214701242</td>\n",
       "      <td>1.396804e+09</td>\n",
       "    </tr>\n",
       "    <tr>\n",
       "      <th>16</th>\n",
       "      <td>6</td>\n",
       "      <td>214826623</td>\n",
       "      <td>1.396804e+09</td>\n",
       "    </tr>\n",
       "    <tr>\n",
       "      <th>55</th>\n",
       "      <td>21</td>\n",
       "      <td>214838503</td>\n",
       "      <td>1.396861e+09</td>\n",
       "    </tr>\n",
       "    <tr>\n",
       "      <th>56</th>\n",
       "      <td>21</td>\n",
       "      <td>214838503</td>\n",
       "      <td>1.396861e+09</td>\n",
       "    </tr>\n",
       "    <tr>\n",
       "      <th>57</th>\n",
       "      <td>21</td>\n",
       "      <td>214838503</td>\n",
       "      <td>1.396861e+09</td>\n",
       "    </tr>\n",
       "    <tr>\n",
       "      <th>...</th>\n",
       "      <td>...</td>\n",
       "      <td>...</td>\n",
       "      <td>...</td>\n",
       "    </tr>\n",
       "    <tr>\n",
       "      <th>33003922</th>\n",
       "      <td>11299818</td>\n",
       "      <td>214855209</td>\n",
       "      <td>1.411589e+09</td>\n",
       "    </tr>\n",
       "    <tr>\n",
       "      <th>33003923</th>\n",
       "      <td>11299819</td>\n",
       "      <td>214854855</td>\n",
       "      <td>1.411634e+09</td>\n",
       "    </tr>\n",
       "    <tr>\n",
       "      <th>33003924</th>\n",
       "      <td>11299819</td>\n",
       "      <td>214854815</td>\n",
       "      <td>1.411634e+09</td>\n",
       "    </tr>\n",
       "    <tr>\n",
       "      <th>33003925</th>\n",
       "      <td>11299819</td>\n",
       "      <td>214854815</td>\n",
       "      <td>1.411634e+09</td>\n",
       "    </tr>\n",
       "    <tr>\n",
       "      <th>33003935</th>\n",
       "      <td>11299814</td>\n",
       "      <td>214828970</td>\n",
       "      <td>1.412010e+09</td>\n",
       "    </tr>\n",
       "  </tbody>\n",
       "</table>\n",
       "<p>3301436 rows × 3 columns</p>\n",
       "</div>"
      ],
      "text/plain": [
       "          SessionId     ItemId     timestamp\n",
       "15                6  214701242  1.396804e+09\n",
       "16                6  214826623  1.396804e+09\n",
       "55               21  214838503  1.396861e+09\n",
       "56               21  214838503  1.396861e+09\n",
       "57               21  214838503  1.396861e+09\n",
       "...             ...        ...           ...\n",
       "33003922   11299818  214855209  1.411589e+09\n",
       "33003923   11299819  214854855  1.411634e+09\n",
       "33003924   11299819  214854815  1.411634e+09\n",
       "33003925   11299819  214854815  1.411634e+09\n",
       "33003935   11299814  214828970  1.412010e+09\n",
       "\n",
       "[3301436 rows x 3 columns]"
      ]
     },
     "execution_count": 8,
     "metadata": {},
     "output_type": "execute_result"
    }
   ],
   "source": [
    "data"
   ]
  },
  {
   "cell_type": "code",
   "execution_count": 9,
   "metadata": {},
   "outputs": [],
   "source": [
    "data = data.sort_values(['SessionId','timestamp'])\n"
   ]
  },
  {
   "cell_type": "code",
   "execution_count": 10,
   "metadata": {},
   "outputs": [
    {
     "name": "stdout",
     "output_type": "stream",
     "text": [
      "length: 924972\n",
      "min length 1\n",
      "max length 200\n"
     ]
    }
   ],
   "source": [
    "## data length by sessionid\n",
    "session_lengths = data.groupby('SessionId').size()\n",
    "print(\"length:\", len(session_lengths))\n",
    "print(\"min length\", min(session_lengths))\n",
    "print(\"max length\", max(session_lengths))"
   ]
  },
  {
   "cell_type": "code",
   "execution_count": 11,
   "metadata": {},
   "outputs": [
    {
     "data": {
      "text/plain": [
       "SessionId\n",
       "6           2\n",
       "21          6\n",
       "36          2\n",
       "41          5\n",
       "53          4\n",
       "           ..\n",
       "11562112    2\n",
       "11562122    2\n",
       "11562131    3\n",
       "11562151    2\n",
       "11562157    2\n",
       "Length: 924972, dtype: int64"
      ]
     },
     "execution_count": 11,
     "metadata": {},
     "output_type": "execute_result"
    }
   ],
   "source": [
    "session_lengths"
   ]
  },
  {
   "cell_type": "code",
   "execution_count": 12,
   "metadata": {},
   "outputs": [],
   "source": [
    "data = data[np.in1d(data.SessionId, session_lengths[session_lengths>=2].index)]"
   ]
  },
  {
   "cell_type": "code",
   "execution_count": 13,
   "metadata": {},
   "outputs": [
    {
     "name": "stdout",
     "output_type": "stream",
     "text": [
      "length: 34452\n",
      "min length 1\n",
      "max length 13262\n"
     ]
    }
   ],
   "source": [
    "item_supports = data.groupby('ItemId').size()\n",
    "print(\"length:\", len(item_supports))\n",
    "print(\"min length\", min(item_supports))\n",
    "print(\"max length\", max(item_supports))"
   ]
  },
  {
   "cell_type": "code",
   "execution_count": 14,
   "metadata": {},
   "outputs": [
    {
     "data": {
      "text/plain": [
       "ItemId\n",
       "214507226        5\n",
       "214507228        1\n",
       "214507331     1282\n",
       "214507365      155\n",
       "214507385       63\n",
       "              ... \n",
       "643078907        1\n",
       "643078950        3\n",
       "1178799879       1\n",
       "1178804544       1\n",
       "1178833843       1\n",
       "Length: 34452, dtype: int64"
      ]
     },
     "execution_count": 14,
     "metadata": {},
     "output_type": "execute_result"
    }
   ],
   "source": [
    "item_supports"
   ]
  },
  {
   "cell_type": "code",
   "execution_count": 15,
   "metadata": {},
   "outputs": [],
   "source": [
    "data = data[np.in1d(data.ItemId, item_supports[item_supports>=5].index)]"
   ]
  },
  {
   "cell_type": "code",
   "execution_count": 16,
   "metadata": {},
   "outputs": [],
   "source": [
    "# item5번 미만 나온 data 는 제거하였으니 다시 한 번 session 길이 검토 \n",
    "session_lengths = data.groupby('SessionId').size()\n",
    "data = data[np.in1d(data.SessionId, session_lengths[session_lengths>=2].index)]"
   ]
  },
  {
   "cell_type": "code",
   "execution_count": 17,
   "metadata": {},
   "outputs": [],
   "source": [
    "#train/test set 나누는 과정 \n",
    "tmax = data.timestamp.max()\n",
    "session_max_times = data.groupby('SessionId').timestamp.max()\n",
    "#index 구하기 \n",
    "session_train = session_max_times[session_max_times < tmax-86400].index\n",
    "session_test = session_max_times[session_max_times >= tmax-86400].index"
   ]
  },
  {
   "cell_type": "code",
   "execution_count": 18,
   "metadata": {},
   "outputs": [],
   "source": [
    "train = data[np.in1d(data.SessionId, session_train)]\n",
    "test = data[np.in1d(data.SessionId, session_test)]\n",
    "test = test[np.in1d(test.ItemId, train.ItemId)]"
   ]
  },
  {
   "cell_type": "code",
   "execution_count": 19,
   "metadata": {},
   "outputs": [
    {
     "data": {
      "text/html": [
       "<div>\n",
       "<style scoped>\n",
       "    .dataframe tbody tr th:only-of-type {\n",
       "        vertical-align: middle;\n",
       "    }\n",
       "\n",
       "    .dataframe tbody tr th {\n",
       "        vertical-align: top;\n",
       "    }\n",
       "\n",
       "    .dataframe thead th {\n",
       "        text-align: right;\n",
       "    }\n",
       "</style>\n",
       "<table border=\"1\" class=\"dataframe\">\n",
       "  <thead>\n",
       "    <tr style=\"text-align: right;\">\n",
       "      <th></th>\n",
       "      <th>SessionId</th>\n",
       "      <th>ItemId</th>\n",
       "      <th>timestamp</th>\n",
       "    </tr>\n",
       "  </thead>\n",
       "  <tbody>\n",
       "    <tr>\n",
       "      <th>32209768</th>\n",
       "      <td>11255868</td>\n",
       "      <td>214853754</td>\n",
       "      <td>1.412011e+09</td>\n",
       "    </tr>\n",
       "    <tr>\n",
       "      <th>32209769</th>\n",
       "      <td>11255868</td>\n",
       "      <td>214577709</td>\n",
       "      <td>1.412011e+09</td>\n",
       "    </tr>\n",
       "    <tr>\n",
       "      <th>32209770</th>\n",
       "      <td>11255868</td>\n",
       "      <td>214853754</td>\n",
       "      <td>1.412011e+09</td>\n",
       "    </tr>\n",
       "    <tr>\n",
       "      <th>32209802</th>\n",
       "      <td>11255882</td>\n",
       "      <td>214855046</td>\n",
       "      <td>1.411965e+09</td>\n",
       "    </tr>\n",
       "    <tr>\n",
       "      <th>32209803</th>\n",
       "      <td>11255882</td>\n",
       "      <td>214854913</td>\n",
       "      <td>1.411965e+09</td>\n",
       "    </tr>\n",
       "    <tr>\n",
       "      <th>...</th>\n",
       "      <td>...</td>\n",
       "      <td>...</td>\n",
       "      <td>...</td>\n",
       "    </tr>\n",
       "    <tr>\n",
       "      <th>32232694</th>\n",
       "      <td>11561912</td>\n",
       "      <td>214853092</td>\n",
       "      <td>1.412001e+09</td>\n",
       "    </tr>\n",
       "    <tr>\n",
       "      <th>32232695</th>\n",
       "      <td>11561912</td>\n",
       "      <td>214853092</td>\n",
       "      <td>1.412002e+09</td>\n",
       "    </tr>\n",
       "    <tr>\n",
       "      <th>32232400</th>\n",
       "      <td>11561946</td>\n",
       "      <td>214586805</td>\n",
       "      <td>1.412004e+09</td>\n",
       "    </tr>\n",
       "    <tr>\n",
       "      <th>32232401</th>\n",
       "      <td>11561946</td>\n",
       "      <td>214586805</td>\n",
       "      <td>1.412006e+09</td>\n",
       "    </tr>\n",
       "    <tr>\n",
       "      <th>32232402</th>\n",
       "      <td>11561946</td>\n",
       "      <td>214586805</td>\n",
       "      <td>1.412007e+09</td>\n",
       "    </tr>\n",
       "  </tbody>\n",
       "</table>\n",
       "<p>7451 rows × 3 columns</p>\n",
       "</div>"
      ],
      "text/plain": [
       "          SessionId     ItemId     timestamp\n",
       "32209768   11255868  214853754  1.412011e+09\n",
       "32209769   11255868  214577709  1.412011e+09\n",
       "32209770   11255868  214853754  1.412011e+09\n",
       "32209802   11255882  214855046  1.411965e+09\n",
       "32209803   11255882  214854913  1.411965e+09\n",
       "...             ...        ...           ...\n",
       "32232694   11561912  214853092  1.412001e+09\n",
       "32232695   11561912  214853092  1.412002e+09\n",
       "32232400   11561946  214586805  1.412004e+09\n",
       "32232401   11561946  214586805  1.412006e+09\n",
       "32232402   11561946  214586805  1.412007e+09\n",
       "\n",
       "[7451 rows x 3 columns]"
      ]
     },
     "execution_count": 19,
     "metadata": {},
     "output_type": "execute_result"
    }
   ],
   "source": [
    "test"
   ]
  },
  {
   "cell_type": "code",
   "execution_count": 20,
   "metadata": {},
   "outputs": [
    {
     "data": {
      "text/html": [
       "<div>\n",
       "<style scoped>\n",
       "    .dataframe tbody tr th:only-of-type {\n",
       "        vertical-align: middle;\n",
       "    }\n",
       "\n",
       "    .dataframe tbody tr th {\n",
       "        vertical-align: top;\n",
       "    }\n",
       "\n",
       "    .dataframe thead th {\n",
       "        text-align: right;\n",
       "    }\n",
       "</style>\n",
       "<table border=\"1\" class=\"dataframe\">\n",
       "  <thead>\n",
       "    <tr style=\"text-align: right;\">\n",
       "      <th></th>\n",
       "      <th>SessionId</th>\n",
       "      <th>ItemId</th>\n",
       "      <th>timestamp</th>\n",
       "    </tr>\n",
       "  </thead>\n",
       "  <tbody>\n",
       "    <tr>\n",
       "      <th>15</th>\n",
       "      <td>6</td>\n",
       "      <td>214701242</td>\n",
       "      <td>1.396804e+09</td>\n",
       "    </tr>\n",
       "    <tr>\n",
       "      <th>16</th>\n",
       "      <td>6</td>\n",
       "      <td>214826623</td>\n",
       "      <td>1.396804e+09</td>\n",
       "    </tr>\n",
       "    <tr>\n",
       "      <th>55</th>\n",
       "      <td>21</td>\n",
       "      <td>214838503</td>\n",
       "      <td>1.396861e+09</td>\n",
       "    </tr>\n",
       "    <tr>\n",
       "      <th>56</th>\n",
       "      <td>21</td>\n",
       "      <td>214838503</td>\n",
       "      <td>1.396861e+09</td>\n",
       "    </tr>\n",
       "    <tr>\n",
       "      <th>57</th>\n",
       "      <td>21</td>\n",
       "      <td>214838503</td>\n",
       "      <td>1.396861e+09</td>\n",
       "    </tr>\n",
       "    <tr>\n",
       "      <th>...</th>\n",
       "      <td>...</td>\n",
       "      <td>...</td>\n",
       "      <td>...</td>\n",
       "    </tr>\n",
       "    <tr>\n",
       "      <th>32230538</th>\n",
       "      <td>11562131</td>\n",
       "      <td>214854542</td>\n",
       "      <td>1.411823e+09</td>\n",
       "    </tr>\n",
       "    <tr>\n",
       "      <th>32230502</th>\n",
       "      <td>11562151</td>\n",
       "      <td>214536296</td>\n",
       "      <td>1.411769e+09</td>\n",
       "    </tr>\n",
       "    <tr>\n",
       "      <th>32230503</th>\n",
       "      <td>11562151</td>\n",
       "      <td>214536296</td>\n",
       "      <td>1.411769e+09</td>\n",
       "    </tr>\n",
       "    <tr>\n",
       "      <th>32230485</th>\n",
       "      <td>11562157</td>\n",
       "      <td>214580372</td>\n",
       "      <td>1.411648e+09</td>\n",
       "    </tr>\n",
       "    <tr>\n",
       "      <th>32230486</th>\n",
       "      <td>11562157</td>\n",
       "      <td>214516012</td>\n",
       "      <td>1.411648e+09</td>\n",
       "    </tr>\n",
       "  </tbody>\n",
       "</table>\n",
       "<p>3140310 rows × 3 columns</p>\n",
       "</div>"
      ],
      "text/plain": [
       "          SessionId     ItemId     timestamp\n",
       "15                6  214701242  1.396804e+09\n",
       "16                6  214826623  1.396804e+09\n",
       "55               21  214838503  1.396861e+09\n",
       "56               21  214838503  1.396861e+09\n",
       "57               21  214838503  1.396861e+09\n",
       "...             ...        ...           ...\n",
       "32230538   11562131  214854542  1.411823e+09\n",
       "32230502   11562151  214536296  1.411769e+09\n",
       "32230503   11562151  214536296  1.411769e+09\n",
       "32230485   11562157  214580372  1.411648e+09\n",
       "32230486   11562157  214516012  1.411648e+09\n",
       "\n",
       "[3140310 rows x 3 columns]"
      ]
     },
     "execution_count": 20,
     "metadata": {},
     "output_type": "execute_result"
    }
   ],
   "source": [
    "train"
   ]
  },
  {
   "cell_type": "code",
   "execution_count": 21,
   "metadata": {},
   "outputs": [
    {
     "name": "stdout",
     "output_type": "stream",
     "text": [
      "Full train set\n",
      "\tEvents: 3140310\n",
      "\tSessions: 791707\n",
      "\tItems: 21878\n",
      "./rsc15_train_sample.txt\n",
      "Test set\n",
      "\tEvents: 7451\n",
      "\tSessions: 1618\n",
      "\tItems: 1675\n",
      "./rsc15_test_sample.txt\n"
     ]
    }
   ],
   "source": [
    "file_type='sample'\n",
    "## save processed data\n",
    "print('Full train set\\n\\tEvents: {}\\n\\tSessions: {}\\n\\tItems: {}'.format(len(train), \n",
    "        train.SessionId.nunique(), train.ItemId.nunique()))\n",
    "train.to_csv('./rsc15_train_{}.txt'.format(file_type), \n",
    "             sep='\\t', index=False)\n",
    "print('./rsc15_train_{}.txt'.format(file_type))\n",
    "\n",
    "print('Test set\\n\\tEvents: {}\\n\\tSessions: {}\\n\\tItems: {}'.format(len(test), \n",
    "        test.SessionId.nunique(), test.ItemId.nunique()))\n",
    "test.to_csv('./rsc15_test_{}.txt'.format(file_type), \n",
    "            sep='\\t', index=False)\n",
    "print('./rsc15_test_{}.txt'.format(file_type))"
   ]
  },
  {
   "cell_type": "code",
   "execution_count": null,
   "metadata": {},
   "outputs": [],
   "source": []
  },
  {
   "cell_type": "code",
   "execution_count": 22,
   "metadata": {},
   "outputs": [],
   "source": [
    "# validation set 분리 \n",
    "tmax = train.timestamp.max()\n",
    "session_max_times = train.groupby('SessionId').timestamp.max()\n",
    "session_train = session_max_times[session_max_times < tmax-86400].index\n",
    "session_valid = session_max_times[session_max_times >= tmax-86400].index\n",
    "\n",
    "train_tr = train[np.in1d(train.SessionId, session_train)]\n",
    "valid = train[np.in1d(train.SessionId, session_valid)]\n",
    "valid = valid[np.in1d(valid.ItemId, train_tr.ItemId)]\n",
    "tslength = valid.groupby('SessionId').size()\n",
    "valid = valid[np.in1d(valid.SessionId, tslength[tslength>=2].index)]\n"
   ]
  },
  {
   "cell_type": "code",
   "execution_count": 23,
   "metadata": {},
   "outputs": [
    {
     "data": {
      "text/html": [
       "<div>\n",
       "<style scoped>\n",
       "    .dataframe tbody tr th:only-of-type {\n",
       "        vertical-align: middle;\n",
       "    }\n",
       "\n",
       "    .dataframe tbody tr th {\n",
       "        vertical-align: top;\n",
       "    }\n",
       "\n",
       "    .dataframe thead th {\n",
       "        text-align: right;\n",
       "    }\n",
       "</style>\n",
       "<table border=\"1\" class=\"dataframe\">\n",
       "  <thead>\n",
       "    <tr style=\"text-align: right;\">\n",
       "      <th></th>\n",
       "      <th>SessionId</th>\n",
       "      <th>ItemId</th>\n",
       "      <th>timestamp</th>\n",
       "    </tr>\n",
       "  </thead>\n",
       "  <tbody>\n",
       "    <tr>\n",
       "      <th>15</th>\n",
       "      <td>6</td>\n",
       "      <td>214701242</td>\n",
       "      <td>1.396804e+09</td>\n",
       "    </tr>\n",
       "    <tr>\n",
       "      <th>16</th>\n",
       "      <td>6</td>\n",
       "      <td>214826623</td>\n",
       "      <td>1.396804e+09</td>\n",
       "    </tr>\n",
       "    <tr>\n",
       "      <th>55</th>\n",
       "      <td>21</td>\n",
       "      <td>214838503</td>\n",
       "      <td>1.396861e+09</td>\n",
       "    </tr>\n",
       "    <tr>\n",
       "      <th>56</th>\n",
       "      <td>21</td>\n",
       "      <td>214838503</td>\n",
       "      <td>1.396861e+09</td>\n",
       "    </tr>\n",
       "    <tr>\n",
       "      <th>57</th>\n",
       "      <td>21</td>\n",
       "      <td>214838503</td>\n",
       "      <td>1.396861e+09</td>\n",
       "    </tr>\n",
       "    <tr>\n",
       "      <th>...</th>\n",
       "      <td>...</td>\n",
       "      <td>...</td>\n",
       "      <td>...</td>\n",
       "    </tr>\n",
       "    <tr>\n",
       "      <th>32230538</th>\n",
       "      <td>11562131</td>\n",
       "      <td>214854542</td>\n",
       "      <td>1.411823e+09</td>\n",
       "    </tr>\n",
       "    <tr>\n",
       "      <th>32230502</th>\n",
       "      <td>11562151</td>\n",
       "      <td>214536296</td>\n",
       "      <td>1.411769e+09</td>\n",
       "    </tr>\n",
       "    <tr>\n",
       "      <th>32230503</th>\n",
       "      <td>11562151</td>\n",
       "      <td>214536296</td>\n",
       "      <td>1.411769e+09</td>\n",
       "    </tr>\n",
       "    <tr>\n",
       "      <th>32230485</th>\n",
       "      <td>11562157</td>\n",
       "      <td>214580372</td>\n",
       "      <td>1.411648e+09</td>\n",
       "    </tr>\n",
       "    <tr>\n",
       "      <th>32230486</th>\n",
       "      <td>11562157</td>\n",
       "      <td>214516012</td>\n",
       "      <td>1.411648e+09</td>\n",
       "    </tr>\n",
       "  </tbody>\n",
       "</table>\n",
       "<p>3134339 rows × 3 columns</p>\n",
       "</div>"
      ],
      "text/plain": [
       "          SessionId     ItemId     timestamp\n",
       "15                6  214701242  1.396804e+09\n",
       "16                6  214826623  1.396804e+09\n",
       "55               21  214838503  1.396861e+09\n",
       "56               21  214838503  1.396861e+09\n",
       "57               21  214838503  1.396861e+09\n",
       "...             ...        ...           ...\n",
       "32230538   11562131  214854542  1.411823e+09\n",
       "32230502   11562151  214536296  1.411769e+09\n",
       "32230503   11562151  214536296  1.411769e+09\n",
       "32230485   11562157  214580372  1.411648e+09\n",
       "32230486   11562157  214516012  1.411648e+09\n",
       "\n",
       "[3134339 rows x 3 columns]"
      ]
     },
     "execution_count": 23,
     "metadata": {},
     "output_type": "execute_result"
    }
   ],
   "source": [
    "train_tr"
   ]
  },
  {
   "cell_type": "code",
   "execution_count": 24,
   "metadata": {},
   "outputs": [
    {
     "name": "stdout",
     "output_type": "stream",
     "text": [
      "Train set\n",
      "\tEvents: 3134339\n",
      "\tSessions: 790449\n",
      "\tItems: 21878\n",
      "./rsc15_train_sample_trn.txt\n",
      "Validation set\n",
      "\tEvents: 5971\n",
      "\tSessions: 1258\n",
      "\tItems: 1399\n",
      "./rsc15_train_sample_valid.txt\n"
     ]
    }
   ],
   "source": [
    "print('Train set\\n\\tEvents: {}\\n\\tSessions: {}\\n\\tItems: {}'.format(len(train_tr), \n",
    "        train_tr.SessionId.nunique(), train_tr.ItemId.nunique()))\n",
    "train_tr.to_csv( './rsc15_train_{}_trn.txt'.format(file_type), \n",
    "                sep='\\t', index=False)\n",
    "\n",
    "print('./rsc15_train_{}_trn.txt'.format(file_type))\n",
    "print('Validation set\\n\\tEvents: {}\\n\\tSessions: {}\\n\\tItems: {}'.format(len(valid), \n",
    "        valid.SessionId.nunique(), valid.ItemId.nunique()))\n",
    "valid.to_csv('./rsc15_train_{}_valid.txt'.format(file_type), \n",
    "             sep='\\t', index=False)\n",
    "print('./rsc15_train_{}_valid.txt'.format(file_type))\n",
    "\n"
   ]
  },
  {
   "cell_type": "code",
   "execution_count": null,
   "metadata": {},
   "outputs": [],
   "source": []
  }
 ],
 "metadata": {
  "kernelspec": {
   "display_name": "Python 3",
   "language": "python",
   "name": "python3"
  },
  "language_info": {
   "codemirror_mode": {
    "name": "ipython",
    "version": 3
   },
   "file_extension": ".py",
   "mimetype": "text/x-python",
   "name": "python",
   "nbconvert_exporter": "python",
   "pygments_lexer": "ipython3",
   "version": "3.6.9"
  }
 },
 "nbformat": 4,
 "nbformat_minor": 2
}
