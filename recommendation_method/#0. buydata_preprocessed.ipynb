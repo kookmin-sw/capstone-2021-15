{
 "cells": [
  {
   "cell_type": "code",
   "execution_count": 1,
   "metadata": {},
   "outputs": [],
   "source": [
    "import time\n",
    "import random\n",
    "import numpy as np\n",
    "import pandas as pd\n",
    "import datetime as dt\n"
   ]
  },
  {
   "cell_type": "code",
   "execution_count": 2,
   "metadata": {},
   "outputs": [
    {
     "data": {
      "text/plain": [
       "(1150753, 3)"
      ]
     },
     "execution_count": 2,
     "metadata": {},
     "output_type": "execute_result"
    }
   ],
   "source": [
    "## load data\n",
    "raw_data = pd.read_csv('./yoochoose-buys.dat', sep=',', \\\n",
    "                   header=None, usecols=[0,1,2], dtype={0:np.int32, 1:str, 2:np.int64})\n",
    "raw_data.columns = ['SessionId', 'TimeStamp', 'ItemId']\n",
    "raw_data.shape"
   ]
  },
  {
   "cell_type": "code",
   "execution_count": 3,
   "metadata": {},
   "outputs": [],
   "source": [
    "# time stamp 버리고 \n",
    "dropped_timestamp = raw_data.drop('TimeStamp',axis=1)\n",
    "# session id & item id 쌍 중복 제거 \n",
    "dropped_duplicates = dropped_timestamp.drop_duplicates()"
   ]
  },
  {
   "cell_type": "code",
   "execution_count": 4,
   "metadata": {},
   "outputs": [],
   "source": [
    "len(dropped_duplicates)"
   ]
  },
  {
   "cell_type": "code",
   "execution_count": 16,
   "metadata": {},
   "outputs": [],
   "source": [
    "# data : 중복 제거된 data \n",
    "# length : 길이 몇 이상인 데이터로 할 것 인지 \n",
    "def filter_session(data,length):\n",
    "    session_lists = list(data['SessionId'].value_counts().index)\n",
    "    filtered_df = pd.DataFrame()\n",
    "    for user in session_lists:\n",
    "        filtered_user_df = data[data['SessionId']==user]\n",
    "        if len(filtered_user_df) > length :\n",
    "            filtered_df = pd.concat([filtered_df,filtered_user_df])\n",
    "    return filtered_df "
   ]
  },
  {
   "cell_type": "code",
   "execution_count": null,
   "metadata": {},
   "outputs": [],
   "source": [
    "filtered_df = filter_session(dropped_duplicates,4)"
   ]
  },
  {
   "cell_type": "code",
   "execution_count": 15,
   "metadata": {},
   "outputs": [
    {
     "data": {
      "text/html": [
       "<div>\n",
       "<style scoped>\n",
       "    .dataframe tbody tr th:only-of-type {\n",
       "        vertical-align: middle;\n",
       "    }\n",
       "\n",
       "    .dataframe tbody tr th {\n",
       "        vertical-align: top;\n",
       "    }\n",
       "\n",
       "    .dataframe thead th {\n",
       "        text-align: right;\n",
       "    }\n",
       "</style>\n",
       "<table border=\"1\" class=\"dataframe\">\n",
       "  <thead>\n",
       "    <tr style=\"text-align: right;\">\n",
       "      <th></th>\n",
       "      <th>SessionId</th>\n",
       "      <th>ItemId</th>\n",
       "    </tr>\n",
       "  </thead>\n",
       "  <tbody>\n",
       "    <tr>\n",
       "      <th>576452</th>\n",
       "      <td>6149111</td>\n",
       "      <td>214848373</td>\n",
       "    </tr>\n",
       "    <tr>\n",
       "      <th>576453</th>\n",
       "      <td>6149111</td>\n",
       "      <td>214848384</td>\n",
       "    </tr>\n",
       "    <tr>\n",
       "      <th>576454</th>\n",
       "      <td>6149111</td>\n",
       "      <td>214835167</td>\n",
       "    </tr>\n",
       "    <tr>\n",
       "      <th>576455</th>\n",
       "      <td>6149111</td>\n",
       "      <td>214829765</td>\n",
       "    </tr>\n",
       "    <tr>\n",
       "      <th>576456</th>\n",
       "      <td>6149111</td>\n",
       "      <td>214848926</td>\n",
       "    </tr>\n",
       "    <tr>\n",
       "      <th>...</th>\n",
       "      <td>...</td>\n",
       "      <td>...</td>\n",
       "    </tr>\n",
       "    <tr>\n",
       "      <th>990380</th>\n",
       "      <td>10087141</td>\n",
       "      <td>214854547</td>\n",
       "    </tr>\n",
       "    <tr>\n",
       "      <th>990381</th>\n",
       "      <td>10087141</td>\n",
       "      <td>214854300</td>\n",
       "    </tr>\n",
       "    <tr>\n",
       "      <th>990382</th>\n",
       "      <td>10087141</td>\n",
       "      <td>214854585</td>\n",
       "    </tr>\n",
       "    <tr>\n",
       "      <th>990383</th>\n",
       "      <td>10087141</td>\n",
       "      <td>214854579</td>\n",
       "    </tr>\n",
       "    <tr>\n",
       "      <th>990384</th>\n",
       "      <td>10087141</td>\n",
       "      <td>214854345</td>\n",
       "    </tr>\n",
       "  </tbody>\n",
       "</table>\n",
       "<p>240752 rows × 2 columns</p>\n",
       "</div>"
      ],
      "text/plain": [
       "        SessionId     ItemId\n",
       "576452    6149111  214848373\n",
       "576453    6149111  214848384\n",
       "576454    6149111  214835167\n",
       "576455    6149111  214829765\n",
       "576456    6149111  214848926\n",
       "...           ...        ...\n",
       "990380   10087141  214854547\n",
       "990381   10087141  214854300\n",
       "990382   10087141  214854585\n",
       "990383   10087141  214854579\n",
       "990384   10087141  214854345\n",
       "\n",
       "[240752 rows x 2 columns]"
      ]
     },
     "execution_count": 15,
     "metadata": {},
     "output_type": "execute_result"
    }
   ],
   "source": [
    "filtered_df"
   ]
  },
  {
   "cell_type": "code",
   "execution_count": 17,
   "metadata": {},
   "outputs": [],
   "source": [
    "session_id = np.array(filtered_df['SessionId'])\n",
    "item_id = np.array(filtered_df['ItemId'])"
   ]
  },
  {
   "cell_type": "code",
   "execution_count": 20,
   "metadata": {},
   "outputs": [],
   "source": [
    "from scipy import sparse as sp\n",
    "# session_item_spm = sp.coo_matrix((np.ones((len(session_id),)), (session_id, item_id)))\n",
    "session_item_spm = sp.csr_matrix((np.ones((len(session_id),)), (session_id, item_id)))\n",
    "num_users, num_items = session_item_spm.shape"
   ]
  },
  {
   "cell_type": "code",
   "execution_count": 32,
   "metadata": {},
   "outputs": [],
   "source": [
    "from sklearn.metrics.pairwise import cosine_similarity\n",
    "\n",
    "def cosine_sim(session_item_spm):\n",
    "    item_spm = cosine_similarity(session_item_spm.transpose(),dense_output=False)\n",
    "    return item_spm"
   ]
  },
  {
   "cell_type": "code",
   "execution_count": 33,
   "metadata": {},
   "outputs": [],
   "source": [
    "item_sim = cosine_sim(session_item_spm)"
   ]
  },
  {
   "cell_type": "code",
   "execution_count": 34,
   "metadata": {},
   "outputs": [
    {
     "name": "stdout",
     "output_type": "stream",
     "text": [
      "  (214507331, 214853413)\t0.04926646390821466\n",
      "  (214507331, 214848986)\t0.037371754637596795\n",
      "  (214507331, 214848641)\t0.04767312946227962\n",
      "  (214507331, 214845590)\t0.036661778755338326\n",
      "  (214507331, 214716645)\t0.0436852028330519\n",
      "  (214507331, 214553837)\t0.07808688094430304\n",
      "  (214507331, 214849059)\t0.25\n",
      "  (214507331, 214848600)\t0.15811388300841897\n",
      "  (214507331, 214837213)\t0.5\n",
      "  (214507331, 214710101)\t0.10206207261596577\n",
      "  (214507331, 214708372)\t0.5\n",
      "  (214507331, 214845581)\t0.03747658444979307\n",
      "  (214507331, 214831946)\t0.02151657414559676\n",
      "  (214507331, 214829880)\t0.02344036154692477\n",
      "  (214507331, 214819395)\t0.15811388300841897\n",
      "  (214507331, 214832557)\t0.0562543950463012\n",
      "  (214507331, 214820458)\t0.11180339887498948\n",
      "  (214507331, 214800262)\t0.07624928516630233\n",
      "  (214507331, 214783352)\t0.11180339887498948\n",
      "  (214507331, 214748334)\t0.07808688094430304\n",
      "  (214507331, 214743821)\t0.08451542547285165\n",
      "  (214507331, 214716120)\t0.14433756729740646\n",
      "  (214507331, 214648250)\t0.15811388300841897\n",
      "  (214507331, 214648247)\t0.11470786693528087\n",
      "  (214507331, 214603138)\t0.14433756729740646\n",
      "  :\t:\n",
      "  (643078800, 214578577)\t0.12909944487358058\n",
      "  (643078800, 214516080)\t0.2886751345948129\n",
      "  (643078800, 214831950)\t0.03560094272544522\n",
      "  (643078800, 214831948)\t0.03994677309684806\n",
      "  (643078800, 214829885)\t0.02602896031476768\n",
      "  (643078800, 214829880)\t0.01353329904901917\n",
      "  (643078800, 643078800)\t1.0000000000000002\n",
      "  (643078800, 214834880)\t0.030714755841697562\n",
      "  (643078800, 214834877)\t0.009297600041320023\n",
      "  (643078800, 214826934)\t0.040824829046386304\n",
      "  (643078800, 214651423)\t0.2886751345948129\n",
      "  (643078950, 643078738)\t0.7071067811865475\n",
      "  (643078950, 214730970)\t0.4999999999999999\n",
      "  (643078950, 214689360)\t0.4999999999999999\n",
      "  (643078950, 214689320)\t0.4999999999999999\n",
      "  (643078950, 214689257)\t0.4999999999999999\n",
      "  (643078950, 214689170)\t0.4999999999999999\n",
      "  (643078950, 214689125)\t0.4999999999999999\n",
      "  (643078950, 214688863)\t0.7071067811865475\n",
      "  (643078950, 214620467)\t0.4999999999999999\n",
      "  (643078950, 643078950)\t0.9999999999999998\n",
      "  (643078950, 214689037)\t0.408248290463863\n",
      "  (643078950, 214689024)\t0.7071067811865475\n",
      "  (643078950, 214688855)\t0.7071067811865475\n",
      "  (643078950, 214688844)\t0.4999999999999999\n"
     ]
    }
   ],
   "source": [
    "print(item_sim)"
   ]
  },
  {
   "cell_type": "code",
   "execution_count": 35,
   "metadata": {},
   "outputs": [],
   "source": [
    "from SLIM import SLIM, SLIMatrix\n",
    "# from slim_load import read_csr\n",
    "\n",
    "def gen_slim(session_item_spm):\n",
    "    model = SLIM()\n",
    "    params = {'algo': 'cd', 'nthreads': 2, 'l1r': 1.0, 'l2r': 1.0}\n",
    "    trainmat = SLIMatrix(session_item_spm.tocsr())\n",
    "    model.train(params, trainmat)\n",
    "    model.save_model(modelfname='slim_model.csr', mapfname='slim_map.csr')\n",
    "\n",
    "    item_spm = read_csr('slim_model.csr')\n",
    "\n",
    "    return item_spm"
   ]
  },
  {
   "cell_type": "code",
   "execution_count": null,
   "metadata": {},
   "outputs": [],
   "source": [
    "item_spm = gen_slim(session_item_spm)"
   ]
  },
  {
   "cell_type": "code",
   "execution_count": null,
   "metadata": {},
   "outputs": [],
   "source": [
    "item_spm"
   ]
  },
  {
   "cell_type": "code",
   "execution_count": null,
   "metadata": {},
   "outputs": [],
   "source": []
  }
 ],
 "metadata": {
  "kernelspec": {
   "display_name": "Python 3",
   "language": "python",
   "name": "python3"
  },
  "language_info": {
   "codemirror_mode": {
    "name": "ipython",
    "version": 3
   },
   "file_extension": ".py",
   "mimetype": "text/x-python",
   "name": "python",
   "nbconvert_exporter": "python",
   "pygments_lexer": "ipython3",
   "version": "3.6.9"
  }
 },
 "nbformat": 4,
 "nbformat_minor": 2
}
